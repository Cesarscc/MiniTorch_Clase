{
 "cells": [
  {
   "cell_type": "code",
   "execution_count": 1,
   "id": "ffb5f64f",
   "metadata": {},
   "outputs": [],
   "source": [
    "import minitorch"
   ]
  },
  {
   "cell_type": "code",
   "execution_count": 2,
   "id": "ab61961e",
   "metadata": {},
   "outputs": [
    {
     "name": "stdout",
     "output_type": "stream",
     "text": [
      "Collecting package metadata (current_repodata.json): ...working... done\n",
      "Solving environment: ...working... done\n",
      "\n",
      "## Package Plan ##\n",
      "\n",
      "  environment location: C:\\Users\\cesar\\anaconda3\n",
      "\n",
      "  added / updated specs:\n",
      "    - visdom\n",
      "\n",
      "\n",
      "The following packages will be downloaded:\n",
      "\n",
      "    package                    |            build\n",
      "    ---------------------------|-----------------\n",
      "    conda-4.10.3               |   py38haa244fe_0         3.1 MB  conda-forge\n",
      "    ------------------------------------------------------------\n",
      "                                           Total:         3.1 MB\n",
      "\n",
      "The following packages will be UPDATED:\n",
      "\n",
      "  conda                               4.10.1-py38haa244fe_0 --> 4.10.3-py38haa244fe_0\n",
      "\n",
      "\n",
      "\n",
      "Downloading and Extracting Packages\n",
      "\n",
      "conda-4.10.3         | 3.1 MB    |            |   0% \n",
      "conda-4.10.3         | 3.1 MB    |            |   1% \n",
      "conda-4.10.3         | 3.1 MB    | 2          |   2% \n",
      "conda-4.10.3         | 3.1 MB    | 4          |   5% \n",
      "conda-4.10.3         | 3.1 MB    | 8          |   9% \n",
      "conda-4.10.3         | 3.1 MB    | #3         |  13% \n",
      "conda-4.10.3         | 3.1 MB    | ##2        |  23% \n",
      "conda-4.10.3         | 3.1 MB    | ###4       |  35% \n",
      "conda-4.10.3         | 3.1 MB    | #####6     |  56% \n",
      "conda-4.10.3         | 3.1 MB    | ########## | 100% \n",
      "conda-4.10.3         | 3.1 MB    | ########## | 100% \n",
      "Preparing transaction: ...working... done\n",
      "Verifying transaction: ...working... done\n",
      "Executing transaction: ...working... done\n",
      "\n",
      "Note: you may need to restart the kernel to use updated packages.\n"
     ]
    }
   ],
   "source": [
    "conda install -c conda-forge visdom"
   ]
  },
  {
   "cell_type": "code",
   "execution_count": null,
   "id": "f375cc7f",
   "metadata": {},
   "outputs": [],
   "source": [
    "import os\n",
    "os.environ[\"KMP_DUPLICATE_LIB_OK\"]=\"TRUE\"\n",
    "from project.datasets import Simple, Split, Xor\n",
    "N = 100\n",
    "Simple(N, vis=True).graph(\"initial\")\n",
    "def classify(pt):\n",
    "    \"Classify based on x position\"\n",
    "    if pt[0] > 0.5:\n",
    "        return 1.0\n",
    "    else:\n",
    "        return 0.0\n",
    "Split(N, vis=True).graph(\"initial\", model=classify)"
   ]
  }
 ],
 "metadata": {
  "kernelspec": {
   "display_name": "Python 3",
   "language": "python",
   "name": "python3"
  },
  "language_info": {
   "codemirror_mode": {
    "name": "ipython",
    "version": 3
   },
   "file_extension": ".py",
   "mimetype": "text/x-python",
   "name": "python",
   "nbconvert_exporter": "python",
   "pygments_lexer": "ipython3",
   "version": "3.8.8"
  }
 },
 "nbformat": 4,
 "nbformat_minor": 5
}
