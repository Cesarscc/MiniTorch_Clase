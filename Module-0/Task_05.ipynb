{
 "cells": [
  {
   "cell_type": "code",
   "execution_count": 1,
   "id": "3f6a8f46",
   "metadata": {},
   "outputs": [],
   "source": [
    "import minitorch"
   ]
  },
  {
   "cell_type": "code",
   "execution_count": 6,
   "id": "adaaaedd",
   "metadata": {},
   "outputs": [
    {
     "name": "stdout",
     "output_type": "stream",
     "text": [
      "Collecting package metadata (current_repodata.json): ...working... done\n",
      "Solving environment: ...working... done\n",
      "\n",
      "## Package Plan ##\n",
      "\n",
      "  environment location: C:\\Users\\cesar\\anaconda3\n",
      "\n",
      "  added / updated specs:\n",
      "    - visdom\n",
      "\n",
      "\n",
      "The following packages will be downloaded:\n",
      "\n",
      "    package                    |            build\n",
      "    ---------------------------|-----------------\n",
      "    torchfile-0.1.0            |             py_0           8 KB  conda-forge\n",
      "    visdom-0.1.8.9             |                0         565 KB  conda-forge\n",
      "    websocket-client-0.57.0    |   py38haa244fe_4          62 KB  conda-forge\n",
      "    ------------------------------------------------------------\n",
      "                                           Total:         635 KB\n",
      "\n",
      "The following NEW packages will be INSTALLED:\n",
      "\n",
      "  torchfile          conda-forge/noarch::torchfile-0.1.0-py_0\n",
      "  visdom             conda-forge/noarch::visdom-0.1.8.9-0\n",
      "  websocket-client   conda-forge/win-64::websocket-client-0.57.0-py38haa244fe_4\n",
      "\n",
      "The following packages will be SUPERSEDED by a higher-priority channel:\n",
      "\n",
      "  conda              pkgs/main::conda-4.10.1-py38haa95532_1 --> conda-forge::conda-4.10.1-py38haa244fe_0\n",
      "\n",
      "\n",
      "\n",
      "Downloading and Extracting Packages\n",
      "\n",
      "visdom-0.1.8.9       | 565 KB    |            |   0% \n",
      "visdom-0.1.8.9       | 565 KB    | 2          |   3% \n",
      "visdom-0.1.8.9       | 565 KB    | 8          |   8% \n",
      "visdom-0.1.8.9       | 565 KB    | ##2        |  23% \n",
      "visdom-0.1.8.9       | 565 KB    | ####2      |  42% \n",
      "visdom-0.1.8.9       | 565 KB    | ######5    |  65% \n",
      "visdom-0.1.8.9       | 565 KB    | ########## | 100% \n",
      "visdom-0.1.8.9       | 565 KB    | ########## | 100% \n",
      "\n",
      "torchfile-0.1.0      | 8 KB      |            |   0% \n",
      "torchfile-0.1.0      | 8 KB      | ########## | 100% \n",
      "torchfile-0.1.0      | 8 KB      | ########## | 100% \n",
      "\n",
      "websocket-client-0.5 | 62 KB     |            |   0% \n",
      "websocket-client-0.5 | 62 KB     | ##5        |  26% \n",
      "websocket-client-0.5 | 62 KB     | ########## | 100% \n",
      "Preparing transaction: ...working... done\n",
      "Verifying transaction: ...working... done\n",
      "Executing transaction: ...working... done\n",
      "\n",
      "Note: you may need to restart the kernel to use updated packages.\n"
     ]
    }
   ],
   "source": [
    "conda install -c conda-forge visdom"
   ]
  },
  {
   "cell_type": "code",
   "execution_count": 1,
   "id": "25fd8b2a",
   "metadata": {},
   "outputs": [
    {
     "name": "stderr",
     "output_type": "stream",
     "text": [
      "Setting up a new session...\n",
      "Setting up a new session...\n"
     ]
    }
   ],
   "source": [
    "import os\n",
    "os.environ[\"KMP_DUPLICATE_LIB_OK\"]=\"TRUE\"\n",
    "from project.datasets import Simple, Split, Xor\n",
    "N = 100\n",
    "Simple(N, vis=True).graph(\"initial\")\n",
    "def classify(pt):\n",
    "    \"Classify based on x position\"\n",
    "    if pt[0] > 0.5:\n",
    "        return 1.0\n",
    "    else:\n",
    "        return 0.0\n",
    "Split(N, vis=True).graph(\"initial\", model=classify)"
   ]
  },
  {
   "cell_type": "markdown",
   "id": "8d39392d",
   "metadata": {},
   "source": [
    "Para poder visualizar, debemos ejecutar \"python -m visdom.server\" en otra consola con el entorno virtual venv, luego visitar http://localhost:8097\n",
    "----"
   ]
  },
  {
   "cell_type": "code",
   "execution_count": null,
   "id": "b706c60e",
   "metadata": {},
   "outputs": [],
   "source": []
  }
 ],
 "metadata": {
  "kernelspec": {
   "display_name": "Python 3",
   "language": "python",
   "name": "python3"
  },
  "language_info": {
   "codemirror_mode": {
    "name": "ipython",
    "version": 3
   },
   "file_extension": ".py",
   "mimetype": "text/x-python",
   "name": "python",
   "nbconvert_exporter": "python",
   "pygments_lexer": "ipython3",
   "version": "3.8.8"
  }
 },
 "nbformat": 4,
 "nbformat_minor": 5
}
